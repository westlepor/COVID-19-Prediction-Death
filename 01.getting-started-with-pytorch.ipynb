{
  "nbformat": 4,
  "nbformat_minor": 0,
  "metadata": {
    "colab": {
      "name": "01.getting-started-with-pytorch.ipynb",
      "provenance": [],
      "collapsed_sections": []
    },
    "kernelspec": {
      "name": "python3",
      "display_name": "Python 3"
    },
    "accelerator": "GPU"
  },
  "cells": [
    {
      "cell_type": "code",
      "metadata": {
        "id": "7Y-d-CKtEk72",
        "colab_type": "code",
        "outputId": "87ebdcc5-760b-4230-afb2-12501c9dd1ae",
        "colab": {
          "base_uri": "https://localhost:8080/",
          "height": 107
        }
      },
      "source": [
        "!pip install -U torch torchvision"
      ],
      "execution_count": 2,
      "outputs": [
        {
          "output_type": "stream",
          "text": [
            "Requirement already up-to-date: torch in /usr/local/lib/python3.6/dist-packages (1.4.0)\n",
            "Requirement already up-to-date: torchvision in /usr/local/lib/python3.6/dist-packages (0.5.0)\n",
            "Requirement already satisfied, skipping upgrade: numpy in /usr/local/lib/python3.6/dist-packages (from torchvision) (1.17.5)\n",
            "Requirement already satisfied, skipping upgrade: pillow>=4.1.1 in /usr/local/lib/python3.6/dist-packages (from torchvision) (6.2.2)\n",
            "Requirement already satisfied, skipping upgrade: six in /usr/local/lib/python3.6/dist-packages (from torchvision) (1.12.0)\n"
          ],
          "name": "stdout"
        }
      ]
    },
    {
      "cell_type": "code",
      "metadata": {
        "id": "DrScMC0r75zD",
        "colab_type": "code",
        "outputId": "02715cf3-2870-40a8-f0b1-d811793f0b21",
        "colab": {
          "base_uri": "https://localhost:8080/",
          "height": 343
        }
      },
      "source": [
        "!pip install watermark"
      ],
      "execution_count": 3,
      "outputs": [
        {
          "output_type": "stream",
          "text": [
            "Collecting watermark\n",
            "  Downloading https://files.pythonhosted.org/packages/60/fe/3ed83b6122e70dce6fe269dfd763103c333f168bf91037add73ea4fe81c2/watermark-2.0.2-py2.py3-none-any.whl\n",
            "Requirement already satisfied: ipython in /usr/local/lib/python3.6/dist-packages (from watermark) (5.5.0)\n",
            "Requirement already satisfied: prompt-toolkit<2.0.0,>=1.0.4 in /usr/local/lib/python3.6/dist-packages (from ipython->watermark) (1.0.18)\n",
            "Requirement already satisfied: simplegeneric>0.8 in /usr/local/lib/python3.6/dist-packages (from ipython->watermark) (0.8.1)\n",
            "Requirement already satisfied: pickleshare in /usr/local/lib/python3.6/dist-packages (from ipython->watermark) (0.7.5)\n",
            "Requirement already satisfied: pygments in /usr/local/lib/python3.6/dist-packages (from ipython->watermark) (2.1.3)\n",
            "Requirement already satisfied: traitlets>=4.2 in /usr/local/lib/python3.6/dist-packages (from ipython->watermark) (4.3.3)\n",
            "Requirement already satisfied: pexpect; sys_platform != \"win32\" in /usr/local/lib/python3.6/dist-packages (from ipython->watermark) (4.8.0)\n",
            "Requirement already satisfied: decorator in /usr/local/lib/python3.6/dist-packages (from ipython->watermark) (4.4.1)\n",
            "Requirement already satisfied: setuptools>=18.5 in /usr/local/lib/python3.6/dist-packages (from ipython->watermark) (45.1.0)\n",
            "Requirement already satisfied: six>=1.9.0 in /usr/local/lib/python3.6/dist-packages (from prompt-toolkit<2.0.0,>=1.0.4->ipython->watermark) (1.12.0)\n",
            "Requirement already satisfied: wcwidth in /usr/local/lib/python3.6/dist-packages (from prompt-toolkit<2.0.0,>=1.0.4->ipython->watermark) (0.1.8)\n",
            "Requirement already satisfied: ipython-genutils in /usr/local/lib/python3.6/dist-packages (from traitlets>=4.2->ipython->watermark) (0.2.0)\n",
            "Requirement already satisfied: ptyprocess>=0.5 in /usr/local/lib/python3.6/dist-packages (from pexpect; sys_platform != \"win32\"->ipython->watermark) (0.6.0)\n",
            "Installing collected packages: watermark\n",
            "Successfully installed watermark-2.0.2\n"
          ],
          "name": "stdout"
        }
      ]
    },
    {
      "cell_type": "code",
      "metadata": {
        "id": "XE8wRS_2784M",
        "colab_type": "code",
        "colab": {}
      },
      "source": [
        "%load_ext watermark"
      ],
      "execution_count": 0,
      "outputs": []
    },
    {
      "cell_type": "code",
      "metadata": {
        "id": "E907oEHK8Evf",
        "colab_type": "code",
        "outputId": "8d6208cb-34ba-4365-9751-4d74101b9f66",
        "colab": {
          "base_uri": "https://localhost:8080/",
          "height": 107
        }
      },
      "source": [
        "%watermark -v -p numpy,torch"
      ],
      "execution_count": 5,
      "outputs": [
        {
          "output_type": "stream",
          "text": [
            "CPython 3.6.9\n",
            "IPython 5.5.0\n",
            "\n",
            "numpy 1.17.5\n",
            "torch 1.4.0\n"
          ],
          "name": "stdout"
        }
      ]
    },
    {
      "cell_type": "markdown",
      "metadata": {
        "id": "QKXpuuCt3rYB",
        "colab_type": "text"
      },
      "source": [
        "# PyTorch ❤️ NumPy\n",
        "\n",
        "Do you know NumPy? If you do, learning PyTorch will be a breeze! If you don't, prepare to learn the skills that will guide you on your journey Machine Learning Mastery!\n",
        "\n",
        "Let's start with something simple:"
      ]
    },
    {
      "cell_type": "code",
      "metadata": {
        "id": "Wk173ueH4Uxy",
        "colab_type": "code",
        "colab": {}
      },
      "source": [
        "import torch\n",
        "import numpy as np"
      ],
      "execution_count": 0,
      "outputs": []
    },
    {
      "cell_type": "code",
      "metadata": {
        "id": "vfzfCdLx5FEm",
        "colab_type": "code",
        "outputId": "0e97adad-f55f-48fd-c7d0-e842578f2751",
        "colab": {
          "base_uri": "https://localhost:8080/",
          "height": 35
        }
      },
      "source": [
        "a = np.array([1, 2])\n",
        "b = np.array([8, 9])\n",
        "\n",
        "c = a + b\n",
        "c"
      ],
      "execution_count": 7,
      "outputs": [
        {
          "output_type": "execute_result",
          "data": {
            "text/plain": [
              "array([ 9, 11])"
            ]
          },
          "metadata": {
            "tags": []
          },
          "execution_count": 7
        }
      ]
    },
    {
      "cell_type": "markdown",
      "metadata": {
        "id": "KwCAz4WM7XOy",
        "colab_type": "text"
      },
      "source": [
        "Adding the same arrays with PyTorch looks like this:"
      ]
    },
    {
      "cell_type": "code",
      "metadata": {
        "id": "dDUOcIf07k8r",
        "colab_type": "code",
        "outputId": "a3a522f4-64c9-4861-97b6-8ea416d346cd",
        "colab": {
          "base_uri": "https://localhost:8080/",
          "height": 35
        }
      },
      "source": [
        "a = torch.tensor([1, 2])\n",
        "b = torch.tensor([8, 9])\n",
        "\n",
        "c = a + b\n",
        "c"
      ],
      "execution_count": 8,
      "outputs": [
        {
          "output_type": "execute_result",
          "data": {
            "text/plain": [
              "tensor([ 9, 11])"
            ]
          },
          "metadata": {
            "tags": []
          },
          "execution_count": 8
        }
      ]
    },
    {
      "cell_type": "markdown",
      "metadata": {
        "id": "a-8tu_mlBVRx",
        "colab_type": "text"
      },
      "source": [
        "Fortunately, you can go from NumPy to PyTorch:"
      ]
    },
    {
      "cell_type": "code",
      "metadata": {
        "id": "mYBBtOZ5BzZt",
        "colab_type": "code",
        "outputId": "7d2c4fbc-02e2-423b-b824-d608fa40cf9b",
        "colab": {
          "base_uri": "https://localhost:8080/",
          "height": 35
        }
      },
      "source": [
        "a = torch.tensor([1, 2])\n",
        "\n",
        "a.numpy()"
      ],
      "execution_count": 9,
      "outputs": [
        {
          "output_type": "execute_result",
          "data": {
            "text/plain": [
              "array([1, 2])"
            ]
          },
          "metadata": {
            "tags": []
          },
          "execution_count": 9
        }
      ]
    },
    {
      "cell_type": "markdown",
      "metadata": {
        "id": "n_tueio4B9UM",
        "colab_type": "text"
      },
      "source": [
        " and vice versa:"
      ]
    },
    {
      "cell_type": "code",
      "metadata": {
        "id": "wbGxHHCmCI0y",
        "colab_type": "code",
        "outputId": "9d4f578b-2347-4311-c412-4682237a5811",
        "colab": {
          "base_uri": "https://localhost:8080/",
          "height": 35
        }
      },
      "source": [
        "a = np.array([1, 2])\n",
        "torch.from_numpy(a)"
      ],
      "execution_count": 10,
      "outputs": [
        {
          "output_type": "execute_result",
          "data": {
            "text/plain": [
              "tensor([1, 2])"
            ]
          },
          "metadata": {
            "tags": []
          },
          "execution_count": 10
        }
      ]
    },
    {
      "cell_type": "markdown",
      "metadata": {
        "id": "8eX91koTxYtc",
        "colab_type": "text"
      },
      "source": [
        "The good news is that the conversions incur almost no cost on the performance of your app. The NumPy and PyTorch store data in memory in the same way. That is, PyTorch is reusing the work done by NumPy.\n",
        "\n",
        "# Tensors\n",
        "\n",
        "Tensors are just n-dimensional number (including booleans) containers. You can find the complete list of supported data types at [PyTorch's Tensor Docs](https://pytorch.org/docs/stable/tensors.html).\n",
        "\n",
        "So, how can you create a Tensor (try to ignore that I've already shown you how to do it)?\n",
        "\n"
      ]
    },
    {
      "cell_type": "code",
      "metadata": {
        "id": "YbBs1LnZ4In7",
        "colab_type": "code",
        "colab": {
          "base_uri": "https://localhost:8080/",
          "height": 53
        },
        "outputId": "8e4a2a91-a150-494e-8769-0bcfc2dd6e88"
      },
      "source": [
        "torch.tensor([[1, 2], [2, 1]])"
      ],
      "execution_count": 11,
      "outputs": [
        {
          "output_type": "execute_result",
          "data": {
            "text/plain": [
              "tensor([[1, 2],\n",
              "        [2, 1]])"
            ]
          },
          "metadata": {
            "tags": []
          },
          "execution_count": 11
        }
      ]
    },
    {
      "cell_type": "markdown",
      "metadata": {
        "id": "qpfHgg9j40Zx",
        "colab_type": "text"
      },
      "source": [
        "You can create a tensor from floats:"
      ]
    },
    {
      "cell_type": "code",
      "metadata": {
        "id": "oQxFkDU94lZE",
        "colab_type": "code",
        "colab": {
          "base_uri": "https://localhost:8080/",
          "height": 53
        },
        "outputId": "226a857a-2f99-4baa-8663-4d09fa658c82"
      },
      "source": [
        "torch.FloatTensor([[1, 2], [2, 1]])"
      ],
      "execution_count": 12,
      "outputs": [
        {
          "output_type": "execute_result",
          "data": {
            "text/plain": [
              "tensor([[1., 2.],\n",
              "        [2., 1.]])"
            ]
          },
          "metadata": {
            "tags": []
          },
          "execution_count": 12
        }
      ]
    },
    {
      "cell_type": "markdown",
      "metadata": {
        "id": "1_t2URO15H1m",
        "colab_type": "text"
      },
      "source": [
        "Or define the type like so:"
      ]
    },
    {
      "cell_type": "code",
      "metadata": {
        "id": "V38yr_Jw47bz",
        "colab_type": "code",
        "colab": {
          "base_uri": "https://localhost:8080/",
          "height": 53
        },
        "outputId": "71a005d0-29d9-4e24-ee44-8751cad1dd58"
      },
      "source": [
        "torch.tensor([[1, 2], [2, 1]], dtype=torch.bool)"
      ],
      "execution_count": 15,
      "outputs": [
        {
          "output_type": "execute_result",
          "data": {
            "text/plain": [
              "tensor([[True, True],\n",
              "        [True, True]])"
            ]
          },
          "metadata": {
            "tags": []
          },
          "execution_count": 15
        }
      ]
    },
    {
      "cell_type": "markdown",
      "metadata": {
        "id": "JmRTLJtN58lV",
        "colab_type": "text"
      },
      "source": [
        "You can use a wide range of factory methods to create Tensors without manually specifying each number. For example, you can create a matrix with random numbers like this: "
      ]
    },
    {
      "cell_type": "code",
      "metadata": {
        "id": "IX7D1-fO59Tp",
        "colab_type": "code",
        "colab": {
          "base_uri": "https://localhost:8080/",
          "height": 71
        },
        "outputId": "8e778c29-3491-4bfd-8c05-bc04c5f2994b"
      },
      "source": [
        "torch.rand(3, 2)"
      ],
      "execution_count": 17,
      "outputs": [
        {
          "output_type": "execute_result",
          "data": {
            "text/plain": [
              "tensor([[0.5853, 0.7024],\n",
              "        [0.5224, 0.3153],\n",
              "        [0.9657, 0.1873]])"
            ]
          },
          "metadata": {
            "tags": []
          },
          "execution_count": 17
        }
      ]
    },
    {
      "cell_type": "markdown",
      "metadata": {
        "id": "4vYL2FDC6emK",
        "colab_type": "text"
      },
      "source": [
        "Or one full of ones:"
      ]
    },
    {
      "cell_type": "code",
      "metadata": {
        "id": "xpYH8oSK6haK",
        "colab_type": "code",
        "colab": {
          "base_uri": "https://localhost:8080/",
          "height": 71
        },
        "outputId": "e7d18122-b7d1-42c9-98c0-20d8cad526d0"
      },
      "source": [
        "torch.ones(3, 2)"
      ],
      "execution_count": 18,
      "outputs": [
        {
          "output_type": "execute_result",
          "data": {
            "text/plain": [
              "tensor([[1., 1.],\n",
              "        [1., 1.],\n",
              "        [1., 1.]])"
            ]
          },
          "metadata": {
            "tags": []
          },
          "execution_count": 18
        }
      ]
    },
    {
      "cell_type": "markdown",
      "metadata": {
        "id": "opIXKjEOxaas",
        "colab_type": "text"
      },
      "source": [
        "# Running on GPU"
      ]
    },
    {
      "cell_type": "markdown",
      "metadata": {
        "id": "BNjzckYYxiUq",
        "colab_type": "text"
      },
      "source": [
        "# Common Issues"
      ]
    },
    {
      "cell_type": "code",
      "metadata": {
        "id": "Xx8xt6SExcW0",
        "colab_type": "code",
        "colab": {}
      },
      "source": [
        ""
      ],
      "execution_count": 0,
      "outputs": []
    }
  ]
}