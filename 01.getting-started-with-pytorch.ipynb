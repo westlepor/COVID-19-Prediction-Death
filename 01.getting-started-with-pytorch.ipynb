{
  "nbformat": 4,
  "nbformat_minor": 0,
  "metadata": {
    "colab": {
      "name": "01.getting-started-with-pytorch.ipynb",
      "provenance": [],
      "collapsed_sections": []
    },
    "kernelspec": {
      "name": "python3",
      "display_name": "Python 3"
    },
    "accelerator": "GPU"
  },
  "cells": [
    {
      "cell_type": "markdown",
      "metadata": {
        "id": "T1bdIQ2NW1fr",
        "colab_type": "text"
      },
      "source": [
        "# Getting Started with PyTorch"
      ]
    },
    {
      "cell_type": "code",
      "metadata": {
        "id": "7Y-d-CKtEk72",
        "colab_type": "code",
        "colab": {}
      },
      "source": [
        "!pip install -q -U torch watermark"
      ],
      "execution_count": 0,
      "outputs": []
    },
    {
      "cell_type": "code",
      "metadata": {
        "id": "E907oEHK8Evf",
        "colab_type": "code",
        "outputId": "81cca8f7-d2a3-40e7-b1bb-2a7491749581",
        "colab": {
          "base_uri": "https://localhost:8080/",
          "height": 107
        }
      },
      "source": [
        "%load_ext watermark\n",
        "%watermark -v -p numpy,torch"
      ],
      "execution_count": 2,
      "outputs": [
        {
          "output_type": "stream",
          "text": [
            "CPython 3.6.9\n",
            "IPython 5.5.0\n",
            "\n",
            "numpy 1.17.5\n",
            "torch 1.4.0\n"
          ],
          "name": "stdout"
        }
      ]
    },
    {
      "cell_type": "markdown",
      "metadata": {
        "id": "QKXpuuCt3rYB",
        "colab_type": "text"
      },
      "source": [
        "## PyTorch ❤ NumPy\n",
        "\n",
        "Do you know NumPy? If you do, learning PyTorch will be a breeze! If you don't, prepare to learn the skills that will guide you on your journey Machine Learning Mastery!\n",
        "\n",
        "Let's start with something simple:"
      ]
    },
    {
      "cell_type": "code",
      "metadata": {
        "id": "Wk173ueH4Uxy",
        "colab_type": "code",
        "colab": {}
      },
      "source": [
        "import torch\n",
        "import numpy as np"
      ],
      "execution_count": 0,
      "outputs": []
    },
    {
      "cell_type": "code",
      "metadata": {
        "id": "vfzfCdLx5FEm",
        "colab_type": "code",
        "outputId": "531f6252-ef8d-4b78-fe60-cd5b5f2c6279",
        "colab": {
          "base_uri": "https://localhost:8080/",
          "height": 35
        }
      },
      "source": [
        "a = np.array([1, 2])\n",
        "b = np.array([8, 9])\n",
        "\n",
        "c = a + b\n",
        "c"
      ],
      "execution_count": 4,
      "outputs": [
        {
          "output_type": "execute_result",
          "data": {
            "text/plain": [
              "array([ 9, 11])"
            ]
          },
          "metadata": {
            "tags": []
          },
          "execution_count": 4
        }
      ]
    },
    {
      "cell_type": "markdown",
      "metadata": {
        "id": "KwCAz4WM7XOy",
        "colab_type": "text"
      },
      "source": [
        "Adding the same arrays with PyTorch looks like this:"
      ]
    },
    {
      "cell_type": "code",
      "metadata": {
        "id": "dDUOcIf07k8r",
        "colab_type": "code",
        "outputId": "afcca37b-facf-4b57-92dd-ba131468f5f2",
        "colab": {
          "base_uri": "https://localhost:8080/",
          "height": 35
        }
      },
      "source": [
        "a = torch.tensor([1, 2])\n",
        "b = torch.tensor([8, 9])\n",
        "\n",
        "c = a + b\n",
        "c"
      ],
      "execution_count": 5,
      "outputs": [
        {
          "output_type": "execute_result",
          "data": {
            "text/plain": [
              "tensor([ 9, 11])"
            ]
          },
          "metadata": {
            "tags": []
          },
          "execution_count": 5
        }
      ]
    },
    {
      "cell_type": "markdown",
      "metadata": {
        "id": "a-8tu_mlBVRx",
        "colab_type": "text"
      },
      "source": [
        "Fortunately, you can go from NumPy to PyTorch:"
      ]
    },
    {
      "cell_type": "code",
      "metadata": {
        "id": "mYBBtOZ5BzZt",
        "colab_type": "code",
        "outputId": "bc52687c-0c06-4c39-f7d6-46ab3b32d184",
        "colab": {
          "base_uri": "https://localhost:8080/",
          "height": 35
        }
      },
      "source": [
        "a = torch.tensor([1, 2])\n",
        "\n",
        "a.numpy()"
      ],
      "execution_count": 6,
      "outputs": [
        {
          "output_type": "execute_result",
          "data": {
            "text/plain": [
              "array([1, 2])"
            ]
          },
          "metadata": {
            "tags": []
          },
          "execution_count": 6
        }
      ]
    },
    {
      "cell_type": "markdown",
      "metadata": {
        "id": "n_tueio4B9UM",
        "colab_type": "text"
      },
      "source": [
        " and vice versa:"
      ]
    },
    {
      "cell_type": "code",
      "metadata": {
        "id": "wbGxHHCmCI0y",
        "colab_type": "code",
        "outputId": "4f656b2b-906f-40d3-b854-4d603964a35d",
        "colab": {
          "base_uri": "https://localhost:8080/",
          "height": 35
        }
      },
      "source": [
        "a = np.array([1, 2])\n",
        "torch.from_numpy(a)"
      ],
      "execution_count": 7,
      "outputs": [
        {
          "output_type": "execute_result",
          "data": {
            "text/plain": [
              "tensor([1, 2])"
            ]
          },
          "metadata": {
            "tags": []
          },
          "execution_count": 7
        }
      ]
    },
    {
      "cell_type": "markdown",
      "metadata": {
        "id": "8eX91koTxYtc",
        "colab_type": "text"
      },
      "source": [
        "The good news is that the conversions incur almost no cost on the performance of your app. The NumPy and PyTorch store data in memory in the same way. That is, PyTorch is reusing the work done by NumPy.\n",
        "\n",
        "## Tensors\n",
        "\n",
        "Tensors are just n-dimensional number (including booleans) containers. You can find the complete list of supported data types at [PyTorch's Tensor Docs](https://pytorch.org/docs/stable/tensors.html).\n",
        "\n",
        "So, how can you create a Tensor (try to ignore that I've already shown you how to do it)?\n",
        "\n"
      ]
    },
    {
      "cell_type": "code",
      "metadata": {
        "id": "YbBs1LnZ4In7",
        "colab_type": "code",
        "outputId": "e04fd680-2369-4544-86df-884b67d23932",
        "colab": {
          "base_uri": "https://localhost:8080/",
          "height": 53
        }
      },
      "source": [
        "torch.tensor([[1, 2], [2, 1]])"
      ],
      "execution_count": 8,
      "outputs": [
        {
          "output_type": "execute_result",
          "data": {
            "text/plain": [
              "tensor([[1, 2],\n",
              "        [2, 1]])"
            ]
          },
          "metadata": {
            "tags": []
          },
          "execution_count": 8
        }
      ]
    },
    {
      "cell_type": "markdown",
      "metadata": {
        "id": "qpfHgg9j40Zx",
        "colab_type": "text"
      },
      "source": [
        "You can create a tensor from floats:"
      ]
    },
    {
      "cell_type": "code",
      "metadata": {
        "id": "oQxFkDU94lZE",
        "colab_type": "code",
        "outputId": "b8a81012-c4ed-4147-890c-e267d70d5442",
        "colab": {
          "base_uri": "https://localhost:8080/",
          "height": 53
        }
      },
      "source": [
        "torch.FloatTensor([[1, 2], [2, 1]])"
      ],
      "execution_count": 9,
      "outputs": [
        {
          "output_type": "execute_result",
          "data": {
            "text/plain": [
              "tensor([[1., 2.],\n",
              "        [2., 1.]])"
            ]
          },
          "metadata": {
            "tags": []
          },
          "execution_count": 9
        }
      ]
    },
    {
      "cell_type": "markdown",
      "metadata": {
        "id": "1_t2URO15H1m",
        "colab_type": "text"
      },
      "source": [
        "Or define the type like so:"
      ]
    },
    {
      "cell_type": "code",
      "metadata": {
        "id": "V38yr_Jw47bz",
        "colab_type": "code",
        "outputId": "cc252a45-888a-4a79-d33f-db09b279208d",
        "colab": {
          "base_uri": "https://localhost:8080/",
          "height": 53
        }
      },
      "source": [
        "torch.tensor([[1, 2], [2, 1]], dtype=torch.bool)"
      ],
      "execution_count": 10,
      "outputs": [
        {
          "output_type": "execute_result",
          "data": {
            "text/plain": [
              "tensor([[True, True],\n",
              "        [True, True]])"
            ]
          },
          "metadata": {
            "tags": []
          },
          "execution_count": 10
        }
      ]
    },
    {
      "cell_type": "markdown",
      "metadata": {
        "id": "JmRTLJtN58lV",
        "colab_type": "text"
      },
      "source": [
        "You can use a wide range of factory methods to create Tensors without manually specifying each number. For example, you can create a matrix with random numbers like this: "
      ]
    },
    {
      "cell_type": "code",
      "metadata": {
        "id": "IX7D1-fO59Tp",
        "colab_type": "code",
        "outputId": "6d812126-56a1-42cf-d3a5-0079ebb8190e",
        "colab": {
          "base_uri": "https://localhost:8080/",
          "height": 71
        }
      },
      "source": [
        "torch.rand(3, 2)"
      ],
      "execution_count": 11,
      "outputs": [
        {
          "output_type": "execute_result",
          "data": {
            "text/plain": [
              "tensor([[0.3553, 0.1488],\n",
              "        [0.2745, 0.1193],\n",
              "        [0.0792, 0.0177]])"
            ]
          },
          "metadata": {
            "tags": []
          },
          "execution_count": 11
        }
      ]
    },
    {
      "cell_type": "markdown",
      "metadata": {
        "id": "4vYL2FDC6emK",
        "colab_type": "text"
      },
      "source": [
        "Or one full of ones:"
      ]
    },
    {
      "cell_type": "code",
      "metadata": {
        "id": "xpYH8oSK6haK",
        "colab_type": "code",
        "outputId": "d15eaa32-f772-4df4-bfbb-2733dc5987a5",
        "colab": {
          "base_uri": "https://localhost:8080/",
          "height": 71
        }
      },
      "source": [
        "torch.ones(3, 2)"
      ],
      "execution_count": 12,
      "outputs": [
        {
          "output_type": "execute_result",
          "data": {
            "text/plain": [
              "tensor([[1., 1.],\n",
              "        [1., 1.],\n",
              "        [1., 1.]])"
            ]
          },
          "metadata": {
            "tags": []
          },
          "execution_count": 12
        }
      ]
    },
    {
      "cell_type": "markdown",
      "metadata": {
        "id": "opIXKjEOxaas",
        "colab_type": "text"
      },
      "source": [
        "## Running on GPU"
      ]
    },
    {
      "cell_type": "markdown",
      "metadata": {
        "id": "BNjzckYYxiUq",
        "colab_type": "text"
      },
      "source": [
        "## Common Issues"
      ]
    },
    {
      "cell_type": "code",
      "metadata": {
        "id": "Xx8xt6SExcW0",
        "colab_type": "code",
        "colab": {}
      },
      "source": [
        ""
      ],
      "execution_count": 0,
      "outputs": []
    }
  ]
}